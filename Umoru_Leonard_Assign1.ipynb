{
 "cells": [
  {
   "cell_type": "code",
   "execution_count": 1,
   "id": "7d2b9185-d937-40a9-9bc8-06373c92767d",
   "metadata": {},
   "outputs": [
    {
     "name": "stdout",
     "output_type": "stream",
     "text": [
      "Name: Leonard Umoru \n",
      "Student Number: 041152507\n"
     ]
    }
   ],
   "source": [
    "print ('Name: Leonard Umoru \\nStudent Number: 041152507')"
   ]
  },
  {
   "cell_type": "code",
   "execution_count": 3,
   "id": "3c8da344-2f84-4453-9815-104d06f58ff2",
   "metadata": {},
   "outputs": [],
   "source": [
    "import json #For handling file input/output\n",
    "\n",
    "\n",
    "class Book: # Class to represent books\n",
    "    def __init__(self, title, author, isbn):\n",
    "        self.title = title\n",
    "        self.author = author   # initializing attributes\n",
    "        self.isbn = isbn\n",
    "        self.available = True\n",
    "\n",
    "    def __str__(self): #String method for showing how the books should be displayed\n",
    "        if self.available: # if in library\n",
    "            return f'({self.title} by {self.author}, ISBN: {self.isbn}, Availability: \"Available\")'\n",
    "        else: # if not in library\n",
    "            return f'({self.title} by {self.author}, ISBN: {self.isbn}, Availability: \"Unavailable\")'\n",
    "\n",
    "\n",
    "class UserClass: #Class to represent regular users\n",
    "    def __init__(self, name, user_id):\n",
    "        self.name = name\n",
    "        self.user_id = user_id  #Initializing attributes\n",
    "        self.borrowed_books = []  #List for storing user's borrowed books\n",
    "\n",
    "    def borrow_book(self, book): #Method to borrow a book\n",
    "        while len(self.borrowed_books) >= 3: #While loop to limit regular users from borrowing more than 3 books\n",
    "            print(f'{self.name} has reached their borrow limit')\n",
    "            break #STOPS THE INFINITE LOOP OF LIMIT MESSAGE\n",
    "        else:\n",
    "            if book.available: #Checks if book is avaialable for borrowing\n",
    "                book.available = False #Marks the book as unavailable\n",
    "                self.borrowed_books.append(book)  #adds the book the user's borrowed list\n",
    "                print(f'{self.name} has successfully borrowed the book, {book.title}')\n",
    "            else:\n",
    "                print(f'Sorry, the book, {book.title} is not available.') #if the book is unavailable\n",
    "\n",
    "    def return_book(self, book): #Method to return a book\n",
    "        if book in self.borrowed_books: #Checks if book is in user's borrowed list\n",
    "            book.available = True # Marks the book back to available\n",
    "            self.borrowed_books.remove(book) #Removes the book for the user's borrowed list\n",
    "            print(f'{self.name} has returned the book, {book.title}')\n",
    "        else:\n",
    "            print(f'{self.name} does not have the book, {book.title}.') #If the user didnt borrow the book\n",
    "            \n",
    "    def __str__(self): #String method to represent how the users and their books are displayed\n",
    "        borrowed_titles = ', '.join(str(book) for book in self.borrowed_books) #converts the books in the list into strings and seperates them by ','.\n",
    "        return f'User {self.name}, borrowed these books: [{borrowed_titles}]'\n",
    "\n",
    "\n",
    "class Library: #Class to represent the library itself\n",
    "    def __init__(self):\n",
    "        self.books = []  #List to store books in the library\n",
    "        self.users = []  #List to store users in the library \n",
    "\n",
    "    def add_book(self, book):  #method for adding books to the library\n",
    "        self.books.append(book) #adds book to the library's list of books\n",
    "        print(f'{book.title} added to the library.')\n",
    "\n",
    "    def add_user(self, user):  #method for adding users to the library\n",
    "        self.users.append(user) #adds users to the library's list of users\n",
    "        print(f'{user.name} added to the library.')\n",
    "\n",
    "    def borrow_book(self, user_id, isbn): #Method for users to borrow books using the book's ISBN\n",
    "        user = next((u for u in self.users if u.user_id == user_id), None) #Generator expression to find the user by thier ID\n",
    "        book = next((b for b in self.books if b.isbn == isbn), None) #Generator expression to find the book by its ISBN\n",
    "        if user and book: \n",
    "            user.borrow_book(book) #Allows users to borrow books only if both user and book exists\n",
    "        else:\n",
    "            if not user:\n",
    "                print(f'Cannot find User with ID {user_id}.') #If user doesnt exist\n",
    "            if not book:\n",
    "                print(f'Cannot find Book with ISBN: {isbn}.') #If book doesnt exist\n",
    "\n",
    "    def return_book(self, user_id, isbn): #Method for users to return books using the book's ISBN\n",
    "        user = next((u for u in self.users if u.user_id == user_id), None) #Generator expression to find the user by their ID\n",
    "        book = next((b for b in self.books if b.isbn == isbn), None) #Generator expression to find the book by its ISBN\n",
    "        if user and book:\n",
    "            user.return_book(book) #Allows users to return books only if both user and book exists\n",
    "        else:\n",
    "            if not user:\n",
    "                print(f'Cannot find User with ID {user_id}.')  #If user doesnt exist\n",
    "            if not book:\n",
    "                print(f'Cannot find Book with ISBN: {isbn}.')  #If book doesnt exist\n",
    "    \n",
    "    def display_books(self): #method to display all books in the library\n",
    "        for book in self.books: #loops through the book list and prints each one\n",
    "            print(book)\n",
    "\n",
    "    def display_users(self): #method to display all users in the library\n",
    "        for user in self.users: #loops through the user list and prints each one\n",
    "            print(user)\n",
    "\n",
    "    def file_input(self, filename = 'library.json'): #Method to save library's information (books and users) to a file\n",
    "        data = {  #Creating a dictionary that holds two main keys (books and users)\n",
    "            'books': [\n",
    "                {\n",
    "                    'title':book.title,\n",
    "                    'author':book.author,\n",
    "                    'isbn':book.isbn,\n",
    "                    'available':book.available\n",
    "                } for book in self.books\n",
    "            ],\n",
    "            \n",
    "            'users': [\n",
    "                {\n",
    "                    'name':user.name,\n",
    "                    'user_id':user.user_id,\n",
    "                    'borrowed_books':[book.isbn for book in user.borrowed_books] #saves ISBNs of borrowed books\n",
    "                } for user in self.users #converts each user to a dictionary\n",
    "            ]\n",
    "        }\n",
    "        \n",
    "        with open(filename, 'w') as file:\n",
    "            json.dump(data, file) # Write the library data to a JSON file\n",
    "        print('Library information has been saved to file.')\n",
    "        \n",
    "\n",
    "    def file_output(self, filename = 'library.json'): #Method to load library's information(books and users from a file\n",
    "        try:\n",
    "            with open(filename, 'r') as file:\n",
    "                data = json.load(file) # Read the library data from a JSON file\n",
    "                \n",
    "                self.books = [Book(book['title'], book['author'], book['isbn']) for book in data['books']] #Recreate book objects\n",
    "                for bk, book_info in zip(self.books, data['books']): #This loop pairs each Book object in self.books with its corresponding dictionary from data['books']\n",
    "                    bk.available = book_info['available'] #Sets the availability of each book\n",
    "\n",
    "                self.users = [UserClass(user['name'], user['user_id']) for user in data['users']] #Recreate user objects\n",
    "                for usr, user_info in zip(self.users, data['users']): #This loop pairs each UserClass object in self.users with its corresponding dictionary from data['users']\n",
    "                    usr.borrowed_books = [next((b for b in self.books if b.isbn == isbn), None) for isbn in user_info['borrowed_books']] #Restore the borrowed books\n",
    "            print('Library information has been loaded from file.')\n",
    "            \n",
    "        except FileNotFoundError:\n",
    "            print('No Library information was found.') #Error message if the file doesnt exist\n",
    "            \n",
    "\n",
    "\n",
    "class PremiumUser(UserClass): #Subclass for premium users who can borrow up to 5 books instead of 3 like the regular users\n",
    "    def borrow_book(self, book):\n",
    "        while len(self.borrowed_books) >= 5: #While loop to limit premium users from borrowing more than 5 books\n",
    "            print(f'{self.name} has reached their borrow limit')\n",
    "            break #stops infinite loop\n",
    "        else:\n",
    "            if book.available: #Checks if book is avaialable for borrowing\n",
    "                book.available = False #Marks the book as unavailable\n",
    "                self.borrowed_books.append(book) #adds the book the user's borrowed list\n",
    "                print(f'{self.name} has successfully borrowed the book, {book.title}')\n",
    "            else:\n",
    "                print(f'Sorry, the book, {book.title} is not available.')\n",
    "\n",
    "\n",
    "#Feel free to rename the json file in my 'file_input' and 'file_output' to test on a fresh file, and run the below codes in the sequence as is."
   ]
  },
  {
   "cell_type": "code",
   "execution_count": 4,
   "id": "d3a05aa5-802a-447f-be1a-bfb2b0e39649",
   "metadata": {},
   "outputs": [],
   "source": [
    "# Create a library instance\n",
    "library = Library()"
   ]
  },
  {
   "cell_type": "code",
   "execution_count": 7,
   "id": "006dca3b-ea9a-423c-b46f-884026760378",
   "metadata": {},
   "outputs": [
    {
     "name": "stdout",
     "output_type": "stream",
     "text": [
      "No Library information was found.\n"
     ]
    }
   ],
   "source": [
    "# Load existing data from file and should give the 'no library information found' error message \n",
    "#because we havnt saved to file yet\n",
    "library.file_output()"
   ]
  },
  {
   "cell_type": "code",
   "execution_count": 9,
   "id": "2f0e6665-32c9-49e2-a862-8409eca9fc21",
   "metadata": {},
   "outputs": [],
   "source": [
    "# Create 10 books\n",
    "book1 = Book('Economics', 'Michael Jordan', 1234267332)\n",
    "book2 = Book('Sociology', 'Jalen Green', 5342312137)\n",
    "book3 = Book('Engineering', 'Caitlyn Clark', 1134565653)\n",
    "book4 = Book('Biology', 'Jimmy Butler', 1134452223)\n",
    "book5 = Book('Chemistry', 'Lamelo Ball', 1928748223)\n",
    "book6 = Book('Physics', 'Lebron James', 1817981212)\n",
    "book7 = Book('Geography', 'Stephen Curry', 8547228915)\n",
    "book8 = Book('History', 'Angel Reese', 7887288321)\n",
    "book9 = Book('Mathematics', 'Jason Tatum', 9738203091)\n",
    "book10 = Book('Computer Science', 'James Harden', 6782478201)"
   ]
  },
  {
   "cell_type": "code",
   "execution_count": 11,
   "id": "783aa394-c18d-4b13-94f1-17e13eb67a9d",
   "metadata": {},
   "outputs": [
    {
     "name": "stdout",
     "output_type": "stream",
     "text": [
      "Economics added to the library.\n",
      "Sociology added to the library.\n",
      "Engineering added to the library.\n",
      "Biology added to the library.\n",
      "Chemistry added to the library.\n",
      "Physics added to the library.\n",
      "Geography added to the library.\n",
      "History added to the library.\n",
      "Mathematics added to the library.\n",
      "Computer Science added to the library.\n"
     ]
    }
   ],
   "source": [
    "# Added the 10 books to library\n",
    "library.add_book(book1)\n",
    "library.add_book(book2)\n",
    "library.add_book(book3)\n",
    "library.add_book(book4)\n",
    "library.add_book(book5)\n",
    "library.add_book(book6)\n",
    "library.add_book(book7)\n",
    "library.add_book(book8)\n",
    "library.add_book(book9)\n",
    "library.add_book(book10)"
   ]
  },
  {
   "cell_type": "code",
   "execution_count": 13,
   "id": "8590ba1a-4ddc-45d7-beb5-044fa9ec6040",
   "metadata": {},
   "outputs": [],
   "source": [
    "# Create 5 users\n",
    "user1 = UserClass('Roland', 1)\n",
    "user2 = UserClass('Annette', 2)\n",
    "user3 = UserClass('Gerald', 3)\n",
    "user4 = UserClass('Sally', 4)\n",
    "user5 = PremiumUser('Leonard', 5)"
   ]
  },
  {
   "cell_type": "code",
   "execution_count": 15,
   "id": "7d7209fd-b363-497a-9920-a7fd93704d0c",
   "metadata": {},
   "outputs": [
    {
     "name": "stdout",
     "output_type": "stream",
     "text": [
      "Roland added to the library.\n",
      "Annette added to the library.\n",
      "Gerald added to the library.\n",
      "Sally added to the library.\n",
      "Leonard added to the library.\n"
     ]
    }
   ],
   "source": [
    "# Add 5 users to library\n",
    "library.add_user(user1)\n",
    "library.add_user(user2)\n",
    "library.add_user(user3)\n",
    "library.add_user(user4)\n",
    "library.add_user(user5)"
   ]
  },
  {
   "cell_type": "code",
   "execution_count": 17,
   "id": "77327f26-4bb9-44b8-9e3b-b0709f267a8d",
   "metadata": {},
   "outputs": [
    {
     "name": "stdout",
     "output_type": "stream",
     "text": [
      "(Economics by Michael Jordan, ISBN: 1234267332, Availability: \"Available\")\n",
      "(Sociology by Jalen Green, ISBN: 5342312137, Availability: \"Available\")\n",
      "(Engineering by Caitlyn Clark, ISBN: 1134565653, Availability: \"Available\")\n",
      "(Biology by Jimmy Butler, ISBN: 1134452223, Availability: \"Available\")\n",
      "(Chemistry by Lamelo Ball, ISBN: 1928748223, Availability: \"Available\")\n",
      "(Physics by Lebron James, ISBN: 1817981212, Availability: \"Available\")\n",
      "(Geography by Stephen Curry, ISBN: 8547228915, Availability: \"Available\")\n",
      "(History by Angel Reese, ISBN: 7887288321, Availability: \"Available\")\n",
      "(Mathematics by Jason Tatum, ISBN: 9738203091, Availability: \"Available\")\n",
      "(Computer Science by James Harden, ISBN: 6782478201, Availability: \"Available\")\n"
     ]
    }
   ],
   "source": [
    "# Display all avalilable books in library\n",
    "library.display_books()"
   ]
  },
  {
   "cell_type": "code",
   "execution_count": 19,
   "id": "3a22f544-e6b3-4687-b97e-f01a532be1c6",
   "metadata": {},
   "outputs": [
    {
     "name": "stdout",
     "output_type": "stream",
     "text": [
      "User Roland, borrowed these books: []\n",
      "User Annette, borrowed these books: []\n",
      "User Gerald, borrowed these books: []\n",
      "User Sally, borrowed these books: []\n",
      "User Leonard, borrowed these books: []\n"
     ]
    }
   ],
   "source": [
    "# Display all users in the libary\n",
    "library.display_users()"
   ]
  },
  {
   "cell_type": "code",
   "execution_count": 21,
   "id": "f35df58a-5c8d-4fed-90f6-f6673dda9737",
   "metadata": {},
   "outputs": [
    {
     "name": "stdout",
     "output_type": "stream",
     "text": [
      "Leonard has successfully borrowed the book, Economics\n",
      "Leonard has successfully borrowed the book, Sociology\n",
      "Leonard has successfully borrowed the book, Engineering\n",
      "Leonard has successfully borrowed the book, Biology\n",
      "Leonard has successfully borrowed the book, Chemistry\n",
      "Leonard has reached their borrow limit\n",
      "Roland has successfully borrowed the book, Geography\n",
      "Roland has successfully borrowed the book, History\n",
      "Roland has successfully borrowed the book, Mathematics\n",
      "Roland has reached their borrow limit\n"
     ]
    }
   ],
   "source": [
    "#Borrow books from the library showing regular and premium benefits. Here Leonard is a Premium User, while Roland\n",
    "#is a regular user\n",
    "library.borrow_book(5, 1234267332)\n",
    "library.borrow_book(5, 5342312137)\n",
    "library.borrow_book(5, 1134565653)\n",
    "library.borrow_book(5, 1134452223)\n",
    "library.borrow_book(5, 1928748223)\n",
    "library.borrow_book(5, 1817981212)\n",
    "library.borrow_book(1, 8547228915)\n",
    "library.borrow_book(1, 7887288321)\n",
    "library.borrow_book(1, 9738203091)\n",
    "library.borrow_book(1, 6782478201)"
   ]
  },
  {
   "cell_type": "code",
   "execution_count": 23,
   "id": "62da6deb-62ac-44c1-9221-602d353ba659",
   "metadata": {},
   "outputs": [
    {
     "name": "stdout",
     "output_type": "stream",
     "text": [
      "(Economics by Michael Jordan, ISBN: 1234267332, Availability: \"Unavailable\")\n",
      "(Sociology by Jalen Green, ISBN: 5342312137, Availability: \"Unavailable\")\n",
      "(Engineering by Caitlyn Clark, ISBN: 1134565653, Availability: \"Unavailable\")\n",
      "(Biology by Jimmy Butler, ISBN: 1134452223, Availability: \"Unavailable\")\n",
      "(Chemistry by Lamelo Ball, ISBN: 1928748223, Availability: \"Unavailable\")\n",
      "(Physics by Lebron James, ISBN: 1817981212, Availability: \"Available\")\n",
      "(Geography by Stephen Curry, ISBN: 8547228915, Availability: \"Unavailable\")\n",
      "(History by Angel Reese, ISBN: 7887288321, Availability: \"Unavailable\")\n",
      "(Mathematics by Jason Tatum, ISBN: 9738203091, Availability: \"Unavailable\")\n",
      "(Computer Science by James Harden, ISBN: 6782478201, Availability: \"Available\")\n"
     ]
    }
   ],
   "source": [
    "#Run this, note all borrowed books have now become unavailable\n",
    "library.display_books()"
   ]
  },
  {
   "cell_type": "code",
   "execution_count": 25,
   "id": "c14655ff-f33c-4160-88d0-93b1cf72f8e0",
   "metadata": {},
   "outputs": [
    {
     "name": "stdout",
     "output_type": "stream",
     "text": [
      "User Roland, borrowed these books: [(Geography by Stephen Curry, ISBN: 8547228915, Availability: \"Unavailable\"), (History by Angel Reese, ISBN: 7887288321, Availability: \"Unavailable\"), (Mathematics by Jason Tatum, ISBN: 9738203091, Availability: \"Unavailable\")]\n",
      "User Annette, borrowed these books: []\n",
      "User Gerald, borrowed these books: []\n",
      "User Sally, borrowed these books: []\n",
      "User Leonard, borrowed these books: [(Economics by Michael Jordan, ISBN: 1234267332, Availability: \"Unavailable\"), (Sociology by Jalen Green, ISBN: 5342312137, Availability: \"Unavailable\"), (Engineering by Caitlyn Clark, ISBN: 1134565653, Availability: \"Unavailable\"), (Biology by Jimmy Butler, ISBN: 1134452223, Availability: \"Unavailable\"), (Chemistry by Lamelo Ball, ISBN: 1928748223, Availability: \"Unavailable\")]\n"
     ]
    }
   ],
   "source": [
    "#Run this, note the books that these users borrowed are now in their list of borrowed books\n",
    "library.display_users()"
   ]
  },
  {
   "cell_type": "code",
   "execution_count": 27,
   "id": "7da6001d-08ee-4288-9b9b-fd13c27e482e",
   "metadata": {},
   "outputs": [
    {
     "name": "stdout",
     "output_type": "stream",
     "text": [
      "Leonard has returned the book, Economics\n",
      "Leonard has returned the book, Sociology\n",
      "Leonard has returned the book, Engineering\n",
      "Roland has returned the book, History\n",
      "Roland has returned the book, Mathematics\n"
     ]
    }
   ],
   "source": [
    "#Returning books back to the library\n",
    "library.return_book(5, 1234267332)\n",
    "library.return_book(5, 5342312137)\n",
    "library.return_book(5, 1134565653)\n",
    "library.return_book(1, 7887288321)\n",
    "library.return_book(1, 9738203091)"
   ]
  },
  {
   "cell_type": "code",
   "execution_count": 29,
   "id": "c4ef56f6-9d06-4360-ac44-eba51d573c0f",
   "metadata": {},
   "outputs": [
    {
     "name": "stdout",
     "output_type": "stream",
     "text": [
      "(Economics by Michael Jordan, ISBN: 1234267332, Availability: \"Available\")\n",
      "(Sociology by Jalen Green, ISBN: 5342312137, Availability: \"Available\")\n",
      "(Engineering by Caitlyn Clark, ISBN: 1134565653, Availability: \"Available\")\n",
      "(Biology by Jimmy Butler, ISBN: 1134452223, Availability: \"Unavailable\")\n",
      "(Chemistry by Lamelo Ball, ISBN: 1928748223, Availability: \"Unavailable\")\n",
      "(Physics by Lebron James, ISBN: 1817981212, Availability: \"Available\")\n",
      "(Geography by Stephen Curry, ISBN: 8547228915, Availability: \"Unavailable\")\n",
      "(History by Angel Reese, ISBN: 7887288321, Availability: \"Available\")\n",
      "(Mathematics by Jason Tatum, ISBN: 9738203091, Availability: \"Available\")\n",
      "(Computer Science by James Harden, ISBN: 6782478201, Availability: \"Available\")\n"
     ]
    }
   ],
   "source": [
    "#Updated book lists\n",
    "library.display_books()"
   ]
  },
  {
   "cell_type": "code",
   "execution_count": 31,
   "id": "521776af-4f80-42f8-9202-70ea29ed752c",
   "metadata": {},
   "outputs": [
    {
     "name": "stdout",
     "output_type": "stream",
     "text": [
      "User Roland, borrowed these books: [(Geography by Stephen Curry, ISBN: 8547228915, Availability: \"Unavailable\")]\n",
      "User Annette, borrowed these books: []\n",
      "User Gerald, borrowed these books: []\n",
      "User Sally, borrowed these books: []\n",
      "User Leonard, borrowed these books: [(Biology by Jimmy Butler, ISBN: 1134452223, Availability: \"Unavailable\"), (Chemistry by Lamelo Ball, ISBN: 1928748223, Availability: \"Unavailable\")]\n"
     ]
    }
   ],
   "source": [
    "#Updated user list\n",
    "library.display_users()"
   ]
  },
  {
   "cell_type": "code",
   "execution_count": 33,
   "id": "7c002e91-8700-427f-b158-64017b454e48",
   "metadata": {},
   "outputs": [
    {
     "name": "stdout",
     "output_type": "stream",
     "text": [
      "Library information has been saved to file.\n"
     ]
    }
   ],
   "source": [
    "#Save new data to file\n",
    "library.file_input()"
   ]
  },
  {
   "cell_type": "code",
   "execution_count": 35,
   "id": "ef56a8a5-f1ee-4ed4-8960-c0d1b79cb323",
   "metadata": {},
   "outputs": [
    {
     "name": "stdout",
     "output_type": "stream",
     "text": [
      "Library information has been loaded from file.\n"
     ]
    }
   ],
   "source": [
    "#Now it should load last saved data from the file\n",
    "library.file_output()"
   ]
  },
  {
   "cell_type": "code",
   "execution_count": 37,
   "id": "85095e26-2e59-4999-a2ef-3b83e997926b",
   "metadata": {},
   "outputs": [
    {
     "name": "stdout",
     "output_type": "stream",
     "text": [
      "Annette has successfully borrowed the book, Sociology\n",
      "Leonard has returned the book, Biology\n"
     ]
    }
   ],
   "source": [
    "#Lets try performing some actions in the library without saving and loading again\n",
    "library.borrow_book(2, 5342312137)\n",
    "library.return_book(5, 1134452223)"
   ]
  },
  {
   "cell_type": "code",
   "execution_count": 39,
   "id": "57fe5167-b348-40be-8dc6-a67a3dee1b47",
   "metadata": {},
   "outputs": [
    {
     "name": "stdout",
     "output_type": "stream",
     "text": [
      "(Economics by Michael Jordan, ISBN: 1234267332, Availability: \"Available\")\n",
      "(Sociology by Jalen Green, ISBN: 5342312137, Availability: \"Unavailable\")\n",
      "(Engineering by Caitlyn Clark, ISBN: 1134565653, Availability: \"Available\")\n",
      "(Biology by Jimmy Butler, ISBN: 1134452223, Availability: \"Available\")\n",
      "(Chemistry by Lamelo Ball, ISBN: 1928748223, Availability: \"Unavailable\")\n",
      "(Physics by Lebron James, ISBN: 1817981212, Availability: \"Available\")\n",
      "(Geography by Stephen Curry, ISBN: 8547228915, Availability: \"Unavailable\")\n",
      "(History by Angel Reese, ISBN: 7887288321, Availability: \"Available\")\n",
      "(Mathematics by Jason Tatum, ISBN: 9738203091, Availability: \"Available\")\n",
      "(Computer Science by James Harden, ISBN: 6782478201, Availability: \"Available\")\n",
      "User Roland, borrowed these books: [(Geography by Stephen Curry, ISBN: 8547228915, Availability: \"Unavailable\")]\n",
      "User Annette, borrowed these books: [(Sociology by Jalen Green, ISBN: 5342312137, Availability: \"Unavailable\")]\n",
      "User Gerald, borrowed these books: []\n",
      "User Sally, borrowed these books: []\n",
      "User Leonard, borrowed these books: [(Chemistry by Lamelo Ball, ISBN: 1928748223, Availability: \"Unavailable\")]\n"
     ]
    }
   ],
   "source": [
    "#note changes made, Sociology changed to Unavailable and Biology changed to Available and Roland, Annette and Leonard\n",
    "#each have one book in their borrowed list\n",
    "library.display_books()\n",
    "library.display_users()"
   ]
  },
  {
   "cell_type": "code",
   "execution_count": 41,
   "id": "4f822a32-4a05-4dde-bc0b-4e85cc7700e6",
   "metadata": {},
   "outputs": [
    {
     "name": "stdout",
     "output_type": "stream",
     "text": [
      "Library information has been loaded from file.\n"
     ]
    }
   ],
   "source": [
    "#Run this\n",
    "library.file_output()"
   ]
  },
  {
   "cell_type": "code",
   "execution_count": 43,
   "id": "fc848a95-c5cf-4f95-9db7-fdbf6ae2087e",
   "metadata": {},
   "outputs": [
    {
     "name": "stdout",
     "output_type": "stream",
     "text": [
      "(Economics by Michael Jordan, ISBN: 1234267332, Availability: \"Available\")\n",
      "(Sociology by Jalen Green, ISBN: 5342312137, Availability: \"Available\")\n",
      "(Engineering by Caitlyn Clark, ISBN: 1134565653, Availability: \"Available\")\n",
      "(Biology by Jimmy Butler, ISBN: 1134452223, Availability: \"Unavailable\")\n",
      "(Chemistry by Lamelo Ball, ISBN: 1928748223, Availability: \"Unavailable\")\n",
      "(Physics by Lebron James, ISBN: 1817981212, Availability: \"Available\")\n",
      "(Geography by Stephen Curry, ISBN: 8547228915, Availability: \"Unavailable\")\n",
      "(History by Angel Reese, ISBN: 7887288321, Availability: \"Available\")\n",
      "(Mathematics by Jason Tatum, ISBN: 9738203091, Availability: \"Available\")\n",
      "(Computer Science by James Harden, ISBN: 6782478201, Availability: \"Available\")\n",
      "User Roland, borrowed these books: [(Geography by Stephen Curry, ISBN: 8547228915, Availability: \"Unavailable\")]\n",
      "User Annette, borrowed these books: []\n",
      "User Gerald, borrowed these books: []\n",
      "User Sally, borrowed these books: []\n",
      "User Leonard, borrowed these books: [(Biology by Jimmy Butler, ISBN: 1134452223, Availability: \"Unavailable\"), (Chemistry by Lamelo Ball, ISBN: 1928748223, Availability: \"Unavailable\")]\n"
     ]
    }
   ],
   "source": [
    "#Then run this again, note how it reverted back to the data it last saved, note how the last actions didnt go through\n",
    "#because the file wasnt saved\n",
    "library.display_books()\n",
    "library.display_users()"
   ]
  },
  {
   "cell_type": "code",
   "execution_count": null,
   "id": "2dfd1280-11f9-4499-8211-0fc69e60ab87",
   "metadata": {},
   "outputs": [],
   "source": []
  }
 ],
 "metadata": {
  "kernelspec": {
   "display_name": "Python 3 (ipykernel)",
   "language": "python",
   "name": "python3"
  },
  "language_info": {
   "codemirror_mode": {
    "name": "ipython",
    "version": 3
   },
   "file_extension": ".py",
   "mimetype": "text/x-python",
   "name": "python",
   "nbconvert_exporter": "python",
   "pygments_lexer": "ipython3",
   "version": "3.12.4"
  }
 },
 "nbformat": 4,
 "nbformat_minor": 5
}
